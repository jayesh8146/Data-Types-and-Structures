{
  "nbformat": 4,
  "nbformat_minor": 0,
  "metadata": {
    "colab": {
      "provenance": []
    },
    "kernelspec": {
      "name": "python3",
      "display_name": "Python 3"
    },
    "language_info": {
      "name": "python"
    }
  },
  "cells": [
    {
      "cell_type": "markdown",
      "source": [
        "Data Types and Structures"
      ],
      "metadata": {
        "id": "0BLBncqisCh0"
      }
    },
    {
      "cell_type": "markdown",
      "source": [
        "1. What are data structures, and why are they important?\n",
        "   - Data structures are ways to organize and store data so that we can use it efficiently. They are important because they help us manage large amounts of data, making it easier to access, modify, and analyze. Think of them as different containers for data, each suited for specific tasks.\n",
        "\n",
        "2. Explain the difference between mutable and immutable data types with examples\n",
        "   - Mutable data types are those that can be changed or modified after they are created, example Lists - You can add or remove in a list.\n",
        "   Immutable data types, on the other hand, cannot be changed after they are created. If you want to modify an immutable object, you have to create a new object with the desired changes, example Strings Once a string is created, you cannot change its content. If you try to modify it, you create a new string instead.\n",
        "\n",
        "3. What are the main differences between lists and tuples in Python?\n",
        "   - Lists are mutable you can change its content, tuples are immutable, so once you create a tuple, you cannot modify it. lists use square brackets [], while tuples use parentheses ()\n",
        "\n",
        "4.  Describe how dictionaries store data\n",
        "   - Dictionaries store data in key-value pairs. Each key is unique, and it maps to a specific value. This allows for fast lookups since you can access a value directly using its key. example, in a dictionary like {\"name\": \"Jayesh\", \"age\": 25}, \"name\" is the key, and \"Jayesh\" is the value.\n",
        "\n",
        "5. Why might you use a set instead of a list in Python?\n",
        "   - You might use a set when you want to store unique items and don’t care about the order. Sets automatically remove duplicates, which can be really handy. For example, if you want to keep track of unique user IDs, a set would be perfect.\n",
        "\n",
        "6. What is a string in Python, and how is it different from a list?\n",
        "   - A string in Python is a sequence of characters, like \"Hello, World!\". The main difference from a list is that strings are immutable, meaning you can't change them after they're created. Lists can hold multiple items of any type and can be modified.\n",
        "\n",
        "7. How do tuples ensure data integrity in Python?\n",
        "   - Tuples ensure data integrity by being immutable. Once we create a tuple, its contents cannot be changed, which means the data remains consistent throughout the program. This is useful when we want to ensure that certain data should not be altered.\n",
        "\n",
        "8. What is a hash table, and how does it relate to dictionaries in Python?\n",
        "   - A hash table is a data structure that uses a hash function to map keys to values, allowing for fast data retrieval. In Python, dictionaries are implemented using hash tables, which is why they can quickly look up values based on their keys.\n",
        "\n",
        "9. Can lists contain different data types in Python?\n",
        "   - Yes, like a mom's bag, lists in Python can contain different data types. You can have a list with integers, strings, and even other lists all in one. For example, my_list = [1, \"hello\", 3.14, [2, 3]] is perfectly valid.\n",
        "\n",
        "10. Explain why strings are immutable in Python.\n",
        "   - Strings are immutable in Python to ensure that they remain constant and to optimize performance. When we create a string, it is stored in memory, and if it were mutable, it could lead to unexpected behavior and bugs. Immutability also allows for better memory management.\n",
        "\n",
        "11. What advantages do dictionaries offer over lists for certain tasks?\n",
        "   - Dictionaries offer faster lookups for values since we can access them directly using keys, while lists require searching through items. This makes dictionaries more efficient for tasks where we need to frequently retrieve data based on a specific identifier.\n",
        "\n",
        "12. Describe a scenario where using a tuple would be preferable over a list.\n",
        "   - Using a tuple would be preferable when you want to store a collection of related values that should not change, like the coordinates of a point (x, y). Since the coordinates should remain constant, a tuple is a better choice than a list.. use case \"attandance\"\n",
        "\n",
        "13. How do sets handle duplicate values in Python?\n",
        "   - Sets automatically remove duplicate values. If you try to add a duplicate item to a set, it simply ignores it. This makes sets a great choice when you want to ensure that all items are unique.\n",
        "\n",
        "14. How does the \"in\" keyword work differently for lists and dictionaries?\n",
        "   - When you use the \"in\" keyword with a list, it checks if a specific value exists in the list. For dictionaries, it checks if a specific key exists. So, value in my_list checks for the value, while key in my_dict checks for the key.\n",
        "\n",
        "15. Can you modify the elements of a tuple? Explain why or why not.\n",
        "   - You cannot modify the elements of a tuple because they are immutable. This means that once a tuple is created , its contents cannot be changed, which helps maintain data integrity and prevents accidental modifications.\n",
        "\n",
        "16. What is a nested dictionary, and give an example of its use case?\n",
        "   - A nested dictionary is a dictionary that contains other dictionaries as its values. This structure is useful for representing complex data. For example, you could have a dictionary representing a school, where each key is a class name, and the value is another dictionary containing student names and their grades:\n",
        "[ ]\n",
        "school = {\n",
        "    \"Math\": {\"Jayesh\": 25, \"Jayu\": 27},\n",
        "    \"Science\": {\"Jay\": 26, \"Jaye\": 28}\n",
        "}\n",
        "\n",
        "17. Describe the time complexity of accessing elements in a dictionary.\n",
        "   - Accessing elements in a dictionary has an average time complexity of O(1), which means it can retrieve values very quickly using their keys. This efficiency is due to the underlying hash table implementation.\n",
        "\n",
        "18. In what situations are lists preferred over dictionaries?\n",
        "   - Lists are preferred when we need to maintain an ordered collection of items or when we want to perform operations like slicing or iterating through elements. They are also useful when the data does not require key-value pairs.\n",
        "\n",
        "19. Why are dictionaries considered unordered, and how does that affect data retrieval?\n",
        "   - Dictionaries are considered unordered because the items do not have a fixed order. This means that when you retrieve items, you cannot rely on the order in which they were added. However, you can still access values quickly using their keys.\n",
        "\n",
        "20. Explain the difference between a list and a dictionary in terms of data retrieval.\n",
        "   - The main difference in data retrieval is that lists use numerical indices to access elements, while dictionaries use unique keys. This means that with a list, you access items by their position, whereas with a dictionary, you access items by their associated key, allowing for more flexible and meaningful data retrieval.-\n"
      ],
      "metadata": {
        "id": "HISKFJukssMx"
      }
    },
    {
      "cell_type": "code",
      "source": [
        "# 1. Create a string with your name and print it\n",
        "name = \"Jayesh Gadkar\"\n",
        "print(\"My name is:\", name)"
      ],
      "metadata": {
        "colab": {
          "base_uri": "https://localhost:8080/"
        },
        "id": "WUkOi9B0xAY_",
        "outputId": "f519eb6e-bfb2-488e-c608-628d724fa115"
      },
      "execution_count": 2,
      "outputs": [
        {
          "output_type": "stream",
          "name": "stdout",
          "text": [
            "My name is: Jayesh Gadkar\n"
          ]
        }
      ]
    },
    {
      "cell_type": "code",
      "source": [
        "# 2. Find the length of the string \"Hello World\"\n",
        "hello_world = \"Hello World\"\n",
        "len(hello_world)"
      ],
      "metadata": {
        "colab": {
          "base_uri": "https://localhost:8080/"
        },
        "id": "eDWAlxuq5Rbq",
        "outputId": "30bdcead-528b-486a-fa80-312d76e0167d"
      },
      "execution_count": 3,
      "outputs": [
        {
          "output_type": "execute_result",
          "data": {
            "text/plain": [
              "11"
            ]
          },
          "metadata": {},
          "execution_count": 3
        }
      ]
    },
    {
      "cell_type": "code",
      "source": [
        "# 3. Slice the first 3 characters from the string \"Python Programming\"\n",
        "python_string = \"Python Programming\"\n",
        "python_string[:3]"
      ],
      "metadata": {
        "colab": {
          "base_uri": "https://localhost:8080/",
          "height": 36
        },
        "id": "e0l5A6BG5YEn",
        "outputId": "0637eccd-590a-4025-dc1a-4de879b5bb30"
      },
      "execution_count": 4,
      "outputs": [
        {
          "output_type": "execute_result",
          "data": {
            "text/plain": [
              "'Pyt'"
            ],
            "application/vnd.google.colaboratory.intrinsic+json": {
              "type": "string"
            }
          },
          "metadata": {},
          "execution_count": 4
        }
      ]
    },
    {
      "cell_type": "code",
      "source": [
        "# 4. Convert the string \"hello\" to uppercase\n",
        "lowercase_string = \"hello\"\n",
        "lowercase_string.upper()"
      ],
      "metadata": {
        "colab": {
          "base_uri": "https://localhost:8080/",
          "height": 36
        },
        "id": "XFEwC2Se5yJi",
        "outputId": "a4d2ed18-4a9e-45ec-9f8e-8fc86a40e39c"
      },
      "execution_count": 5,
      "outputs": [
        {
          "output_type": "execute_result",
          "data": {
            "text/plain": [
              "'HELLO'"
            ],
            "application/vnd.google.colaboratory.intrinsic+json": {
              "type": "string"
            }
          },
          "metadata": {},
          "execution_count": 5
        }
      ]
    },
    {
      "cell_type": "code",
      "source": [
        "# 5. Replace the word \"apple\" with \"orange\" in the string \"I like apple\"\n",
        "a = \"I like apple\"\n",
        "a.replace(\"apple\", \"orange\")"
      ],
      "metadata": {
        "colab": {
          "base_uri": "https://localhost:8080/",
          "height": 36
        },
        "id": "3SoO22Pk5-We",
        "outputId": "20abafa8-8055-4bc7-cad6-fbc7997b5cbc"
      },
      "execution_count": 6,
      "outputs": [
        {
          "output_type": "execute_result",
          "data": {
            "text/plain": [
              "'I like orange'"
            ],
            "application/vnd.google.colaboratory.intrinsic+json": {
              "type": "string"
            }
          },
          "metadata": {},
          "execution_count": 6
        }
      ]
    },
    {
      "cell_type": "code",
      "source": [
        "# 6. Create a list with numbers 1 to 5 and print it\n",
        "number_list = [1, 2, 3, 4, 5]\n",
        "print(number_list)"
      ],
      "metadata": {
        "colab": {
          "base_uri": "https://localhost:8080/"
        },
        "id": "igwaUweY6CVO",
        "outputId": "a9f673f4-3ab9-499e-dc84-b802ee33946b"
      },
      "execution_count": 7,
      "outputs": [
        {
          "output_type": "stream",
          "name": "stdout",
          "text": [
            "[1, 2, 3, 4, 5]\n"
          ]
        }
      ]
    },
    {
      "cell_type": "code",
      "source": [
        "# 7. Append the number 10 to the list [1, 2, 3, 4]\n",
        "jayesh_list = [1, 2, 3, 4]\n",
        "jayesh_list.append(10)\n",
        "print(jayesh_list)"
      ],
      "metadata": {
        "colab": {
          "base_uri": "https://localhost:8080/"
        },
        "id": "ANGbbT4h6J_f",
        "outputId": "adb0c053-3229-4c92-c7a0-6e731b65ab1b"
      },
      "execution_count": 9,
      "outputs": [
        {
          "output_type": "stream",
          "name": "stdout",
          "text": [
            "[1, 2, 3, 4, 10]\n"
          ]
        }
      ]
    },
    {
      "cell_type": "code",
      "source": [
        "# 8. Remove the number 3 from the list [1, 2, 3, 4, 5]\n",
        "list = [1, 2, 3, 4, 5]\n",
        "list.remove(3)\n",
        "print(list)"
      ],
      "metadata": {
        "colab": {
          "base_uri": "https://localhost:8080/"
        },
        "id": "LQ2fbOPX6cT6",
        "outputId": "8998be93-f8f8-4628-c5be-dbf62c008282"
      },
      "execution_count": 10,
      "outputs": [
        {
          "output_type": "stream",
          "name": "stdout",
          "text": [
            "[1, 2, 4, 5]\n"
          ]
        }
      ]
    },
    {
      "cell_type": "code",
      "source": [
        "# 9. Access the second element in the list ['a', 'b', 'c', 'd']\n",
        "char_list = ['a', 'b', 'c', 'd']\n",
        "char_list[1]"
      ],
      "metadata": {
        "colab": {
          "base_uri": "https://localhost:8080/",
          "height": 36
        },
        "id": "LYYNui0F6fuW",
        "outputId": "481453b3-8964-4188-d434-e44c953fb2db"
      },
      "execution_count": 11,
      "outputs": [
        {
          "output_type": "execute_result",
          "data": {
            "text/plain": [
              "'b'"
            ],
            "application/vnd.google.colaboratory.intrinsic+json": {
              "type": "string"
            }
          },
          "metadata": {},
          "execution_count": 11
        }
      ]
    },
    {
      "cell_type": "code",
      "source": [
        "# 10. Reverse the list [10, 20, 30, 40, 50]\n",
        "a = [10, 20, 30, 40, 50]\n",
        "a.reverse()\n",
        "print(a)"
      ],
      "metadata": {
        "colab": {
          "base_uri": "https://localhost:8080/"
        },
        "id": "oM3oSCjw6kB7",
        "outputId": "a2e0b125-80ee-46b5-888b-ba6c4fa0ab99"
      },
      "execution_count": 12,
      "outputs": [
        {
          "output_type": "stream",
          "name": "stdout",
          "text": [
            "[50, 40, 30, 20, 10]\n"
          ]
        }
      ]
    },
    {
      "cell_type": "code",
      "source": [
        "# 11. Create a tuple with the elements 10, 20, 30 and print it\n",
        "x = (10, 20, 30)\n",
        "type(x)\n"
      ],
      "metadata": {
        "colab": {
          "base_uri": "https://localhost:8080/"
        },
        "id": "wg1loP6A6nU-",
        "outputId": "8646b2b2-1841-4735-e222-14045e6b1ac3"
      },
      "execution_count": 13,
      "outputs": [
        {
          "output_type": "execute_result",
          "data": {
            "text/plain": [
              "tuple"
            ]
          },
          "metadata": {},
          "execution_count": 13
        }
      ]
    },
    {
      "cell_type": "code",
      "source": [
        "# 12. Access the first element of the tuple ('apple', 'banana', 'cherry')\n",
        "fruit = ('apple', 'banana', 'cherry')\n",
        "fruit[0]"
      ],
      "metadata": {
        "colab": {
          "base_uri": "https://localhost:8080/",
          "height": 36
        },
        "id": "xMl0-f2-6p9S",
        "outputId": "e1187bc8-8dc8-4b6a-f524-e396d4ea583f"
      },
      "execution_count": 14,
      "outputs": [
        {
          "output_type": "execute_result",
          "data": {
            "text/plain": [
              "'apple'"
            ],
            "application/vnd.google.colaboratory.intrinsic+json": {
              "type": "string"
            }
          },
          "metadata": {},
          "execution_count": 14
        }
      ]
    },
    {
      "cell_type": "code",
      "source": [
        "# 13. Count how many times the number 2 appears in the tuple (1, 2, 3, 2, 4, 2)\n",
        "my_tuple = (1, 2, 3, 2, 4, 2) # Changed the variable name from 'tuple' to 'my_tuple' to avoid conflict with the built-in type.\n",
        "a = my_tuple.count(2)\n",
        "print(a)"
      ],
      "metadata": {
        "colab": {
          "base_uri": "https://localhost:8080/"
        },
        "id": "tbW9_GY-6sS1",
        "outputId": "e07870ac-374f-480c-80f3-6c206cb219f9"
      },
      "execution_count": 15,
      "outputs": [
        {
          "output_type": "stream",
          "name": "stdout",
          "text": [
            "3\n"
          ]
        }
      ]
    },
    {
      "cell_type": "code",
      "source": [
        "# 14. Find the index of the element \"cat\" in the tuple ('dog', 'cat', 'rabbit')\n",
        "animal = ('dog', 'cat', 'rabbit')\n",
        "animal.index('cat')"
      ],
      "metadata": {
        "colab": {
          "base_uri": "https://localhost:8080/"
        },
        "id": "oMnoVpSL6wN_",
        "outputId": "b498e1f1-59d0-455d-f068-c68103981fed"
      },
      "execution_count": 16,
      "outputs": [
        {
          "output_type": "execute_result",
          "data": {
            "text/plain": [
              "1"
            ]
          },
          "metadata": {},
          "execution_count": 16
        }
      ]
    },
    {
      "cell_type": "code",
      "source": [
        "# 15. Check if the element \"banana\" is in the tuple ('apple', 'orange', 'banana')\n",
        "fruit = ('apple', 'orange', 'banana')\n",
        "'banana' in fruit"
      ],
      "metadata": {
        "colab": {
          "base_uri": "https://localhost:8080/"
        },
        "id": "b5Gd6Pkz6zyM",
        "outputId": "16e403ed-db9f-406f-8b6f-115d646de550"
      },
      "execution_count": 17,
      "outputs": [
        {
          "output_type": "execute_result",
          "data": {
            "text/plain": [
              "True"
            ]
          },
          "metadata": {},
          "execution_count": 17
        }
      ]
    },
    {
      "cell_type": "code",
      "source": [
        "# 16. Create a set with the elements 1, 2, 3, 4, 5 and print it\n",
        "Jayesh = {1, 2, 3, 4, 5}\n",
        "print(Jayesh)"
      ],
      "metadata": {
        "colab": {
          "base_uri": "https://localhost:8080/"
        },
        "id": "ysYdHjVm64Mp",
        "outputId": "c68ef552-3204-475f-c555-6ffd8cf0ab94"
      },
      "execution_count": 18,
      "outputs": [
        {
          "output_type": "stream",
          "name": "stdout",
          "text": [
            "{1, 2, 3, 4, 5}\n"
          ]
        }
      ]
    },
    {
      "cell_type": "code",
      "source": [
        "# 17. Add the element 6 to the set {1, 2, 3, 4}\n",
        "Jayesh = {1, 2, 3, 4}\n",
        "Jayesh.add(6)\n",
        "print(Jayesh)"
      ],
      "metadata": {
        "colab": {
          "base_uri": "https://localhost:8080/"
        },
        "id": "LWDeFGq_6_4C",
        "outputId": "fe66e01c-786e-4b58-f90a-4cc3022d94e6"
      },
      "execution_count": 19,
      "outputs": [
        {
          "output_type": "stream",
          "name": "stdout",
          "text": [
            "{1, 2, 3, 4, 6}\n"
          ]
        }
      ]
    },
    {
      "cell_type": "code",
      "source": [
        "# 18. Create a tuple with the elements 10, 20, 30 and print it\n",
        "Jayesh = (10, 20, 30)\n",
        "print(Jayesh)"
      ],
      "metadata": {
        "colab": {
          "base_uri": "https://localhost:8080/"
        },
        "id": "6RnG94B87I9W",
        "outputId": "702be18e-6b3b-4b6c-80b8-2495de35bfe0"
      },
      "execution_count": 20,
      "outputs": [
        {
          "output_type": "stream",
          "name": "stdout",
          "text": [
            "(10, 20, 30)\n"
          ]
        }
      ]
    },
    {
      "cell_type": "code",
      "source": [
        "# 19. Access the first element of the tuple ('apple', 'banana', 'cherry')\n",
        "fruit = ('apple', 'banana', 'cherry')\n",
        "fruit[0]"
      ],
      "metadata": {
        "colab": {
          "base_uri": "https://localhost:8080/",
          "height": 36
        },
        "id": "9d6atp1e7PvA",
        "outputId": "49df15f6-1354-4011-b85f-a118d7b4b57e"
      },
      "execution_count": 21,
      "outputs": [
        {
          "output_type": "execute_result",
          "data": {
            "text/plain": [
              "'apple'"
            ],
            "application/vnd.google.colaboratory.intrinsic+json": {
              "type": "string"
            }
          },
          "metadata": {},
          "execution_count": 21
        }
      ]
    },
    {
      "cell_type": "code",
      "source": [
        "# 20. count how many times the number 2 appears in the tuple (1, 2, 3, 2, 4, 2)\n",
        "jayesh_tuple = (1, 2, 3, 2, 4, 2)\n",
        "a = jayesh_tuple.count(2)\n",
        "print(a)\n"
      ],
      "metadata": {
        "colab": {
          "base_uri": "https://localhost:8080/"
        },
        "id": "XPB---XK7Sj-",
        "outputId": "24c412cb-fca4-4d14-aa7d-6cfb576acf24"
      },
      "execution_count": 22,
      "outputs": [
        {
          "output_type": "stream",
          "name": "stdout",
          "text": [
            "3\n"
          ]
        }
      ]
    },
    {
      "cell_type": "code",
      "source": [
        "# 21. find the index of the element \"cat\" in the tuple ('dog', 'cat', 'rabbit').\n",
        "animal = ('dog', 'cat', 'rabbit')\n",
        "animal.index('cat')"
      ],
      "metadata": {
        "colab": {
          "base_uri": "https://localhost:8080/"
        },
        "id": "gYVJ162i7bQm",
        "outputId": "a157957a-d8aa-4b9b-d7d9-0d31a68f935d"
      },
      "execution_count": 23,
      "outputs": [
        {
          "output_type": "execute_result",
          "data": {
            "text/plain": [
              "1"
            ]
          },
          "metadata": {},
          "execution_count": 23
        }
      ]
    },
    {
      "cell_type": "code",
      "source": [
        "# 22. check if the element \"banana\" is in the tuple ('apple', 'orange', 'banana').\n",
        "fruit = ('apple', 'orange', 'banana')\n",
        "'banana' in fruit"
      ],
      "metadata": {
        "colab": {
          "base_uri": "https://localhost:8080/"
        },
        "id": "RTo8TT0f7fHC",
        "outputId": "2ea429f1-6303-486a-a82b-a68ad3f2c5e7"
      },
      "execution_count": 24,
      "outputs": [
        {
          "output_type": "execute_result",
          "data": {
            "text/plain": [
              "True"
            ]
          },
          "metadata": {},
          "execution_count": 24
        }
      ]
    },
    {
      "cell_type": "code",
      "source": [
        "# 23. create a set with the elements 1, 2, 3, 4, 5 and print it.\n",
        "jayesh = {1, 2, 3, 4, 5}\n",
        "print(jayesh)"
      ],
      "metadata": {
        "colab": {
          "base_uri": "https://localhost:8080/"
        },
        "id": "YHBmmKTT7iSR",
        "outputId": "97b57aef-f063-4df8-fbfe-2aed29aed669"
      },
      "execution_count": 25,
      "outputs": [
        {
          "output_type": "stream",
          "name": "stdout",
          "text": [
            "{1, 2, 3, 4, 5}\n"
          ]
        }
      ]
    },
    {
      "cell_type": "code",
      "source": [
        "# 24. add the element 6 to the set {1, 2, 3, 4}\n",
        "jayesh = {1, 2, 3, 4}\n",
        "jayesh.add(6)\n",
        "print(jayesh)"
      ],
      "metadata": {
        "colab": {
          "base_uri": "https://localhost:8080/"
        },
        "id": "vwo3Oflm7od9",
        "outputId": "d77d3f03-6129-48bb-b00d-469645e45a30"
      },
      "execution_count": 26,
      "outputs": [
        {
          "output_type": "stream",
          "name": "stdout",
          "text": [
            "{1, 2, 3, 4, 6}\n"
          ]
        }
      ]
    }
  ]
}